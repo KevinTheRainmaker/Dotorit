{
 "cells": [
  {
   "cell_type": "code",
   "execution_count": null,
   "metadata": {},
   "outputs": [],
   "source": [
    "import os\n",
    "import imghdr\n",
    "from pathlib import Path"
   ]
  },
  {
   "cell_type": "code",
   "execution_count": null,
   "metadata": {},
   "outputs": [],
   "source": [
    "#이미지 이름 바꿔주기\n",
    "\n",
    "images_path = './data/train'\n",
    "\n",
    "folder_list = os.listdir(images_path)\n",
    "\n",
    "for i, foldername in enumerate(folder_list):\n",
    "    print(foldername)\n",
    "\n",
    "    try:\n",
    "        folder_path = os.path.join(images_path, foldername)\n",
    "        file_list = os.listdir(folder_path)\n",
    "        new_name_prefix = str(foldername)+'_'\n",
    "\n",
    "        for j, filename in enumerate(file_list):\n",
    "            new_name = f'{new_name_prefix}{j+1}.jpg'\n",
    "            os.rename(os.path.join(folder_path, filename), os.path.join(folder_path, new_name))\n",
    "\n",
    "    except Exception as e:\n",
    "        if not foldername.startswith('.DS_Store'):\n",
    "            print('DS_Store 무시')"
   ]
  },
  {
   "cell_type": "code",
   "execution_count": null,
   "metadata": {},
   "outputs": [],
   "source": [
    "#파일 형식 안맞는 이미지 파일들 제거해주기\n",
    "\n",
    "\n",
    "data_dir = './data/train'\n",
    "image_extensions = [\".png\", \".jpg\"]  # add there all your images file extensions\n",
    "\n",
    "img_type_accepted_by_tf = [\"bmp\", \"gif\", \"jpeg\", \"png\"]\n",
    "for filepath in Path(data_dir).rglob(\"*\"):\n",
    "    if filepath.suffix.lower() in image_extensions:\n",
    "        img_type = imghdr.what(filepath)\n",
    "        if img_type is None:\n",
    "            print(f\"{filepath} is not an image\")\n",
    "            os.remove(filepath)\n",
    "        elif img_type not in img_type_accepted_by_tf:\n",
    "            print(f\"{filepath} is a {img_type}, not accepted by TensorFlow\")\n",
    "            os.remove(filepath)"
   ]
  }
 ],
 "metadata": {
  "language_info": {
   "name": "python"
  },
  "orig_nbformat": 4
 },
 "nbformat": 4,
 "nbformat_minor": 2
}
