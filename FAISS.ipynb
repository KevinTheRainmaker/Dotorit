{
 "cells": [
  {
   "cell_type": "code",
   "execution_count": 2,
   "metadata": {},
   "outputs": [],
   "source": [
    "import faiss\n",
    "import numpy as np"
   ]
  },
  {
   "cell_type": "code",
   "execution_count": 4,
   "metadata": {},
   "outputs": [],
   "source": [
    "d = 64\t\t\t\t\t# dimension of vector\n",
    "num_total = 10000\t\t# number of total vectors\n",
    "num_query = 5\t\t\t# number of query vectors\n",
    "\n",
    "np.random.seed(1234)             # make reproducible\n",
    "\n",
    "total_vectors = np.random.random((num_total, d)).astype('float32')\n",
    "query_vectors = np.random.random((num_query, d)).astype('float32')"
   ]
  },
  {
   "cell_type": "code",
   "execution_count": 5,
   "metadata": {},
   "outputs": [
    {
     "name": "stdout",
     "output_type": "stream",
     "text": [
      "True\n",
      "10000\n"
     ]
    }
   ],
   "source": [
    "Index = faiss.IndexFlatL2(d)\n",
    "print(Index.is_trained)\t\t# True\n",
    "Index.add(total_vectors)\t# add 연산\n",
    "print(Index.ntotal)\t\t# 10000"
   ]
  },
  {
   "cell_type": "code",
   "execution_count": 6,
   "metadata": {},
   "outputs": [
    {
     "name": "stdout",
     "output_type": "stream",
     "text": [
      "[[5.0900974 5.670616  5.7184644]\n",
      " [6.858701  6.956443  7.08839  ]\n",
      " [5.2772083 5.4527187 5.796511 ]\n",
      " [5.809805  6.0942507 6.1004057]\n",
      " [5.14467   5.5545816 5.785306 ]]\n",
      "[[1204 3271 2568]\n",
      " [8063 2700  919]\n",
      " [3919 8653 4130]\n",
      " [4429  230  317]\n",
      " [9103  199 6044]]\n"
     ]
    }
   ],
   "source": [
    "k=3\n",
    "distances, indexes = Index.search(query_vectors, k)\n",
    "\n",
    "print(distances)\t# num_query x k\n",
    "# [[7.011895  7.390568  7.478056 ]\n",
    "#  [8.265501  8.38073   9.07618  ]\n",
    "#  [7.980177  8.24932   8.45091  ]\n",
    "#  [8.033938  8.254479  8.498654 ]\n",
    "#  [7.9609275 8.029879  8.259771 ]]\n",
    "print(indexes)\n",
    "# [[ 72  84 160]\n",
    "#  [ 13  26   2]\n",
    "#  [101  68  76]\n",
    "#  [ 49 152  18]\n",
    "#  [ 41  51 199]]"
   ]
  },
  {
   "cell_type": "code",
   "execution_count": 7,
   "metadata": {},
   "outputs": [
    {
     "name": "stdout",
     "output_type": "stream",
     "text": [
      "[[0.        5.9857316 6.005853 ]\n",
      " [0.        5.5655904 5.7691574]\n",
      " [0.        5.665924  5.6770835]\n",
      " [0.        5.7480383 6.273041 ]\n",
      " [0.        5.4505696 5.6836843]]\n",
      "[[   0 5325 7124]\n",
      " [   1 3549  555]\n",
      " [   2  304 5103]\n",
      " [   3 5425 8762]\n",
      " [   4 8984 8897]]\n"
     ]
    }
   ],
   "source": [
    "distances, indexes = Index.search(total_vectors[:5], k)\n",
    "\n",
    "print(distances)\n",
    "# [[0.        7.8548703 8.563642 ]\n",
    "#  [0.        7.848359  7.9348636]\n",
    "#  [0.        7.3042192 7.663117 ]\n",
    "#  [0.        7.7451077 8.46536  ]\n",
    "#  [0.        7.7310977 8.006843 ]]\n",
    "print(indexes)\n",
    "# [[  0  78  39]\n",
    "#  [  1  24  88]\n",
    "#  [  2  13 101]\n",
    "#  [  3  18   8]\n",
    "#  [  4  18  52]]"
   ]
  },
  {
   "cell_type": "code",
   "execution_count": null,
   "metadata": {},
   "outputs": [],
   "source": []
  }
 ],
 "metadata": {
  "interpreter": {
   "hash": "7e37d900d6d611e8bd6f03f3f1d8f7f1c9103f9e522430456cd21001ab859e15"
  },
  "kernelspec": {
   "display_name": "Python 3.11.4 ('dotorit')",
   "language": "python",
   "name": "python3"
  },
  "language_info": {
   "codemirror_mode": {
    "name": "ipython",
    "version": 3
   },
   "file_extension": ".py",
   "mimetype": "text/x-python",
   "name": "python",
   "nbconvert_exporter": "python",
   "pygments_lexer": "ipython3",
   "version": "3.11.4"
  },
  "orig_nbformat": 4
 },
 "nbformat": 4,
 "nbformat_minor": 2
}
